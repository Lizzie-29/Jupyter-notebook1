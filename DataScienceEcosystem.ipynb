{
 "cells": [
  {
   "cell_type": "markdown",
   "id": "34d0dc15-fd48-41a8-a477-03808e948a9b",
   "metadata": {},
   "source": [
    "# Data Science Tools and Ecosystem"
   ]
  },
  {
   "cell_type": "markdown",
   "id": "bf80b70f-a9e1-41f5-b514-393ec0dfd196",
   "metadata": {},
   "source": [
    "In this notebook, Data Science Tools and Ecosystem are summarized."
   ]
  },
  {
   "cell_type": "markdown",
   "id": "0bf26252-1314-485b-91e2-70a3d10e0999",
   "metadata": {},
   "source": [
    " Some of the popular languages that Data Scientists use are:\n",
    " ordered list\n",
    "1. Python\n",
    "2. SQL\n",
    "3. R"
   ]
  },
  {
   "cell_type": "markdown",
   "id": "7c479a2b-77ef-4389-b74a-1ebbd4271f27",
   "metadata": {},
   "source": [
    " Some of the commonly used libraries used by Data Scientists include:\n",
    " ordered list\n",
    "1. TensorFlow\n",
    "2. SciPy \n",
    "3. Matplotlib "
   ]
  },
  {
   "cell_type": "markdown",
   "id": "e98ed31a-853f-43aa-96b6-76bcb19ae3d4",
   "metadata": {},
   "source": [
    " Data Science Tools\n",
    "| Data Science Tools |  \n",
    "| :----: | \n",
    "| Pandas | \n",
    "| Apache Hadoop |  \n",
    "| Jupyter Notebooks|  "
   ]
  },
  {
   "cell_type": "markdown",
   "id": "7c1d92fc-1417-43cb-9322-59a9d37e088f",
   "metadata": {},
   "source": [
    "### Below are a few examples of evaluating arithmetic expressions in Python."
   ]
  },
  {
   "cell_type": "code",
   "execution_count": 10,
   "id": "e6c66890-16ef-4d23-9276-7752280d468a",
   "metadata": {},
   "outputs": [
    {
     "data": {
      "text/plain": [
       "17"
      ]
     },
     "execution_count": 10,
     "metadata": {},
     "output_type": "execute_result"
    }
   ],
   "source": [
    "#This a simple arithmetic expression to mutiply then add integers\n",
    "(3*4)+5"
   ]
  },
  {
   "cell_type": "code",
   "execution_count": 12,
   "id": "476ab13e-3ee5-42cb-82d1-ecc15b7e1333",
   "metadata": {},
   "outputs": [],
   "source": [
    "#This will convert 200 minutes to hours by diving by 60\n",
    "minutes = 200 % 60\n",
    "hours = 200 // 60"
   ]
  },
  {
   "cell_type": "markdown",
   "id": "89f6f03d-3ef8-4fac-99d7-57823d3f542f",
   "metadata": {},
   "source": [
    "**Objectives:**\n",
    "\n",
    "  unordered list\n",
    "1. List popular languages for Data Science\n",
    "2. Documents that can be created and shared, simplifying the workflow.\n",
    "3. It is possible to use other languages such as R, Julia, etc. in notebooks.\n",
    "4. Notebook Server is responsible for saving and loading notebooks."
   ]
  },
  {
   "cell_type": "markdown",
   "id": "93a0a3e8-8d1f-4326-86ae-3f3f81740ced",
   "metadata": {},
   "source": [
    "## Auther\n",
    "Lijun"
   ]
  },
  {
   "cell_type": "code",
   "execution_count": null,
   "id": "77762b64-1d1e-43ca-8507-91ad75acbc8a",
   "metadata": {},
   "outputs": [],
   "source": []
  }
 ],
 "metadata": {
  "kernelspec": {
   "display_name": "Python 3 (ipykernel)",
   "language": "python",
   "name": "python3"
  },
  "language_info": {
   "codemirror_mode": {
    "name": "ipython",
    "version": 3
   },
   "file_extension": ".py",
   "mimetype": "text/x-python",
   "name": "python",
   "nbconvert_exporter": "python",
   "pygments_lexer": "ipython3",
   "version": "3.12.4"
  }
 },
 "nbformat": 4,
 "nbformat_minor": 5
}
